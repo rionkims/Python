{
  "nbformat": 4,
  "nbformat_minor": 0,
  "metadata": {
    "colab": {
      "name": "PythonStudy.ipynb",
      "provenance": [],
      "collapsed_sections": [
        "Qs5XSbP5VEbi",
        "BtXpeXJanAVj",
        "YYugWyO5kpCt",
        "-12CbpUBmqC4",
        "ngnihk-ZtSbX"
      ],
      "toc_visible": true,
      "authorship_tag": "ABX9TyO7FTKVYH44FTlAW40zBCj/",
      "include_colab_link": true
    },
    "kernelspec": {
      "name": "python3",
      "display_name": "Python 3"
    }
  },
  "cells": [
    {
      "cell_type": "markdown",
      "metadata": {
        "id": "view-in-github",
        "colab_type": "text"
      },
      "source": [
        "<a href=\"https://colab.research.google.com/github/rionkims/Python/blob/master/PythonStudy.ipynb\" target=\"_parent\"><img src=\"https://colab.research.google.com/assets/colab-badge.svg\" alt=\"Open In Colab\"/></a>"
      ]
    },
    {
      "cell_type": "markdown",
      "metadata": {
        "id": "kEgPLYf1PGlx",
        "colab_type": "text"
      },
      "source": [
        "# Python 이해하기 2020\n",
        "- 파이썬을 이해하기\n",
        "- 파이썬의 서드파티 라이브러리 이해하기\n",
        "- 추가로 파이썬 기반의 머신러닝 이해하기\n",
        "- 추가로 파이썬 기반의 딥러닝 이해하기\n"
      ]
    },
    {
      "cell_type": "markdown",
      "metadata": {
        "id": "CYu_RWuaQncD",
        "colab_type": "text"
      },
      "source": [
        "# 파이썬이란?\n",
        "\n",
        "---\n",
        "\n",
        "파이썬(Python)은 1990년 암스테르담의 귀도 반 로섬(Guido Van Rossum)이 개발한 인터프리터 언어이다. 귀도는 파이썬이라는 이름을 자신이 좋아하는 코미디 쇼인 \"몬티 파이썬의 날아다니는 서커스(Monty Python’s Flying Circus)\"에서 따왔다고 한다."
      ]
    },
    {
      "cell_type": "markdown",
      "metadata": {
        "id": "tla4mD9GTdvm",
        "colab_type": "text"
      },
      "source": [
        "## 파이썬의 특징\n",
        "- 파이썬은 인간다운 언어이다\n",
        "- 파이썬은 문법이 쉬워 빠르게 배울 수 있다\n",
        "- 파이썬은 무료이지만 강력하다\n",
        "- 파이썬은 간결하다\n",
        "- 파이썬은 프로그래밍을 즐기게 해준다\n",
        "- 파이썬은 개발 속도가 빠르다\n",
        "\n",
        "##파이썬으로 할 수 있는 일\n",
        "- 시스템 유틸리티 제작\n",
        "- GUI 프로그래밍\n",
        "- C/C++와의 결합\n",
        "- 웹 프로그래밍\n",
        "- 수치 연산 프로그래밍\n",
        "- 데이터베이스 프로그래밍\n",
        "- 데이터 분석, 사물 인터넷\n",
        "\n",
        "##파이썬으로 할 수 없는 일\n",
        "- 시스템과 밀접한 프로그래밍 영역\n",
        "- 모바일 프로그래밍"
      ]
    },
    {
      "cell_type": "markdown",
      "metadata": {
        "id": "3s3ZLNkcdjfy",
        "colab_type": "text"
      },
      "source": [
        "## 파이썬 설치하기\n",
        "- 윈도우에서 설치하기: https://wikidocs.net/8\n",
        "\n",
        "## 파일썬 둘러보기\n",
        "- 파이썬은 대소문자를 구별한다. print를 PRINT로 쓰면 정의되지 않았다는 오류 메시지가 나온다.\n",
        "- 주석 라인은 #으로 시작\n",
        "- 여러 라인의 주석은 \"\"\"~ \"\"\" 또는 '''~ '''"
      ]
    },
    {
      "cell_type": "code",
      "metadata": {
        "id": "9Sw7mA2ZPBkA",
        "colab_type": "code",
        "colab": {
          "base_uri": "https://localhost:8080/",
          "height": 33
        },
        "outputId": "90221f9e-3cb0-4509-8f0a-82ec5aa056b7"
      },
      "source": [
        "#더하기\n",
        "1+1"
      ],
      "execution_count": null,
      "outputs": [
        {
          "output_type": "execute_result",
          "data": {
            "text/plain": [
              "2"
            ]
          },
          "metadata": {
            "tags": []
          },
          "execution_count": 1
        }
      ]
    },
    {
      "cell_type": "code",
      "metadata": {
        "id": "w6Ls7nay4pAU",
        "colab_type": "code",
        "colab": {
          "base_uri": "https://localhost:8080/",
          "height": 33
        },
        "outputId": "a2d6e3ed-b83f-4e91-b8fa-d6d762c9443e"
      },
      "source": [
        "#곱하기\n",
        "3*4"
      ],
      "execution_count": null,
      "outputs": [
        {
          "output_type": "execute_result",
          "data": {
            "text/plain": [
              "12"
            ]
          },
          "metadata": {
            "tags": []
          },
          "execution_count": 2
        }
      ]
    },
    {
      "cell_type": "code",
      "metadata": {
        "id": "-b6JBtU_fnwZ",
        "colab_type": "code",
        "colab": {
          "base_uri": "https://localhost:8080/",
          "height": 33
        },
        "outputId": "4e4c6fcb-1a8d-4021-ad8e-6f83b5ec6eb3"
      },
      "source": [
        "#나누기\n",
        "8/2.5"
      ],
      "execution_count": null,
      "outputs": [
        {
          "output_type": "execute_result",
          "data": {
            "text/plain": [
              "3.2"
            ]
          },
          "metadata": {
            "tags": []
          },
          "execution_count": 4
        }
      ]
    },
    {
      "cell_type": "code",
      "metadata": {
        "id": "XNN0GnuIfnlK",
        "colab_type": "code",
        "colab": {
          "base_uri": "https://localhost:8080/",
          "height": 33
        },
        "outputId": "56e7d226-192a-468c-d597-c6644f0f55b0"
      },
      "source": [
        "#변수 선언\n",
        "a=1\n",
        "b=2\n",
        "a+b"
      ],
      "execution_count": null,
      "outputs": [
        {
          "output_type": "execute_result",
          "data": {
            "text/plain": [
              "3"
            ]
          },
          "metadata": {
            "tags": []
          },
          "execution_count": 6
        }
      ]
    },
    {
      "cell_type": "code",
      "metadata": {
        "id": "bmZXskjzfnPa",
        "colab_type": "code",
        "colab": {
          "base_uri": "https://localhost:8080/",
          "height": 50
        },
        "outputId": "6ce2abc1-21ed-49e9-ab89-9038715a69ef"
      },
      "source": [
        "#변수에 문자 대입\n",
        "a=\"Hello\"\n",
        "b='world'\n",
        "print(a)\n",
        "print(b)"
      ],
      "execution_count": null,
      "outputs": [
        {
          "output_type": "stream",
          "text": [
            "Hello\n",
            "world\n"
          ],
          "name": "stdout"
        }
      ]
    },
    {
      "cell_type": "code",
      "metadata": {
        "id": "rEjjyD6fHEeF",
        "colab_type": "code",
        "colab": {
          "base_uri": "https://localhost:8080/",
          "height": 33
        },
        "outputId": "691889a3-ab58-4188-b7a8-aa97f8b6f1e5"
      },
      "source": [
        "#조건문 if\n",
        "a=3\n",
        "if a>1:\n",
        "  print(\"a is greater than 1\")"
      ],
      "execution_count": null,
      "outputs": [
        {
          "output_type": "stream",
          "text": [
            "a is greater than 1\n"
          ],
          "name": "stdout"
        }
      ]
    },
    {
      "cell_type": "code",
      "metadata": {
        "id": "yFWsriGJHawt",
        "colab_type": "code",
        "colab": {
          "base_uri": "https://localhost:8080/",
          "height": 67
        },
        "outputId": "ff54cb41-064b-498f-e0be-c09dc393be6a"
      },
      "source": [
        "#반복문 for\n",
        "for a in [1,2,3]:\n",
        "  print(a)"
      ],
      "execution_count": null,
      "outputs": [
        {
          "output_type": "stream",
          "text": [
            "1\n",
            "2\n",
            "3\n"
          ],
          "name": "stdout"
        }
      ]
    },
    {
      "cell_type": "code",
      "metadata": {
        "id": "CJF6-sduHmXN",
        "colab_type": "code",
        "colab": {
          "base_uri": "https://localhost:8080/",
          "height": 67
        },
        "outputId": "000e3122-307d-491d-bb9b-05feffd28db1"
      },
      "source": [
        "#반복문 while\n",
        "i=0\n",
        "while i<3:\n",
        "  i=i+1\n",
        "  print(i)"
      ],
      "execution_count": null,
      "outputs": [
        {
          "output_type": "stream",
          "text": [
            "1\n",
            "2\n",
            "3\n"
          ],
          "name": "stdout"
        }
      ]
    },
    {
      "cell_type": "code",
      "metadata": {
        "id": "N-_aLN4hH15t",
        "colab_type": "code",
        "colab": {
          "base_uri": "https://localhost:8080/",
          "height": 33
        },
        "outputId": "32874e0f-510e-47a5-aa69-3e0ca91b69e6"
      },
      "source": [
        "#함수\n",
        "def add(a,b):\n",
        "  return a+b\n",
        "  \n",
        "add(3,4)  "
      ],
      "execution_count": null,
      "outputs": [
        {
          "output_type": "execute_result",
          "data": {
            "text/plain": [
              "7"
            ]
          },
          "metadata": {
            "tags": []
          },
          "execution_count": 8
        }
      ]
    },
    {
      "cell_type": "markdown",
      "metadata": {
        "id": "MrezFd99PI3A",
        "colab_type": "text"
      },
      "source": [
        "## 파이썬 추천 에디터\n",
        "- 비주얼 스튜디오 코드: https://code.visualstudio.com/\n",
        "- 파이참(Pycham): http://www.jetbrains.com/pycharm/download/"
      ]
    },
    {
      "cell_type": "markdown",
      "metadata": {
        "id": "LhFgqlydymeL",
        "colab_type": "text"
      },
      "source": [
        "# 기초, 자료형"
      ]
    },
    {
      "cell_type": "markdown",
      "metadata": {
        "id": "JQGrsA3hPkH2",
        "colab_type": "text"
      },
      "source": [
        "\n",
        "##숫자형\n",
        "- 정수형:123, -345, 0\n",
        "- 실수형: 1.2, -23.45, 3.4e10\n",
        "- 8진수: 0o34, 0o589\n",
        "- 16진수: 0x8ff, 0xABC\n"
      ]
    },
    {
      "cell_type": "code",
      "metadata": {
        "id": "KZ4Sa6fCQlLW",
        "colab_type": "code",
        "colab": {
          "base_uri": "https://localhost:8080/",
          "height": 33
        },
        "outputId": "4e29e8d7-4f7a-4ebc-dbef-51ec367d1c9d"
      },
      "source": [
        "#제곱 **\n",
        "a=2\n",
        "b=3\n",
        "a**b"
      ],
      "execution_count": null,
      "outputs": [
        {
          "output_type": "execute_result",
          "data": {
            "text/plain": [
              "8"
            ]
          },
          "metadata": {
            "tags": []
          },
          "execution_count": 9
        }
      ]
    },
    {
      "cell_type": "code",
      "metadata": {
        "id": "FvaWJwEqQy83",
        "colab_type": "code",
        "colab": {
          "base_uri": "https://localhost:8080/",
          "height": 33
        },
        "outputId": "0fbad93c-7125-425d-bd9d-49dd6de07ab9"
      },
      "source": [
        "#나머지 연산자 %\n",
        "7%3"
      ],
      "execution_count": null,
      "outputs": [
        {
          "output_type": "execute_result",
          "data": {
            "text/plain": [
              "1"
            ]
          },
          "metadata": {
            "tags": []
          },
          "execution_count": 10
        }
      ]
    },
    {
      "cell_type": "code",
      "metadata": {
        "id": "n-l4s7iNQ98J",
        "colab_type": "code",
        "colab": {
          "base_uri": "https://localhost:8080/",
          "height": 33
        },
        "outputId": "8b1d6e67-eb88-413b-b70a-ae12a10bd96c"
      },
      "source": [
        "#나눗셈 몫을 정수로 반환 연산자 //\n",
        "7//4"
      ],
      "execution_count": null,
      "outputs": [
        {
          "output_type": "execute_result",
          "data": {
            "text/plain": [
              "1"
            ]
          },
          "metadata": {
            "tags": []
          },
          "execution_count": 11
        }
      ]
    },
    {
      "cell_type": "markdown",
      "metadata": {
        "id": "aQrcVNrkRdAF",
        "colab_type": "text"
      },
      "source": [
        "## 문자열 자료형\n",
        "### 문자열 만드는 4가지 방법\n",
        "1. 큰따옴표(\")로 양쪽 둘러싸기\n",
        "> `\"Hello World\"`\n",
        "2. 작은따옴표(')로 양쪽 둘러싸기\n",
        ">`'Python is fun'`\n",
        "3. 큰따옴표 3개를 연속(\"\"\")으로 써서 양쪽 둘러싸기\n",
        "> `\"\"\"Life is too short, You need python\"\"\"`\n",
        "4. 작은따옴표 3개를 연속(''')으로 써서 양쪽 둘러싸기\n",
        ">`'''Life is too short, You need python'''`\n",
        "\n",
        "###문자열 안에 작은따옴표나 큰따옴표를 포함시키고 싶을 때\n",
        "1. 문자열에 작은따옴표 (') 포함시키기\n",
        "> `food = \"Python's favorite food is perl\"`\n",
        "\n",
        "2. 문자열에 큰따옴표 (\") 포함시키기\n",
        "> `say = '\"Python is very easy.\" he says.'`\n",
        "\n",
        "3. 백슬래시(\\)를 사용해서 작은따옴표(')와 큰따옴표(\")를 문자열에 포함시키기\n",
        ">```\n",
        ">> food = 'Python\\'s favorite food is perl'\n",
        ">> say = \"\\\"Python is very easy.\\\" he says.\"\n",
        "```\n",
        "\n",
        "###여러 줄인 문자열을 변수에 대입하고 싶을 때\n",
        "1. 줄을 바꾸기 위한 이스케이프 코드 \\n 삽입하기\n",
        ">`multiline = \"Life is too short\\nYou need python\"`\n",
        "\n",
        "2. 연속된 작은따옴표 3개(''') 또는 큰따옴표 3개(\"\"\") 사용하기\n",
        ">```\n",
        "multiline='''\n",
        "... Life is too short\n",
        "... You need python\n",
        "...\n",
        "```\n",
        ">```\n",
        "multiline=\"\"\"\n",
        "... Life is too short\n",
        "... You need python\n",
        "... \"\"\"\n",
        "```\n",
        ">\n",
        "\n",
        "```\n",
        "* [이스케이프 코드란?]\n",
        "\n",
        "문자열 예제에서 여러 줄의 문장을 처리할 때 백슬래시 문자와 소문자 n을 조합한 \\n 이스케이프 코드를 사용했다. \n",
        "이스케이프 코드란 프로그래밍할 때 사용할 수 있도록 미리 정의해 둔 \"문자 조합\"이다. \n",
        "주로 출력물을 보기 좋게 정렬하는 용도로 사용한다. 몇 가지 이스케이프 코드를 정리하면 다음과 같다.\n",
        "\n",
        "코드\t설명\n",
        "\\n\t문자열 안에서 줄을 바꿀 때 사용\n",
        "\\t\t문자열 사이에 탭 간격을 줄 때 사용\n",
        "\\\\\t문자 \\를 그대로 표현할 때 사용\n",
        "\\'\t작은따옴표(')를 그대로 표현할 때 사용\n",
        "\\\"\t큰따옴표(\")를 그대로 표현할 때 사용\n",
        "\\r\t캐리지 리턴(줄 바꿈 문자, 현재 커서를 가장 앞으로 이동)\n",
        "\\f\t폼 피드(줄 바꿈 문자, 현재 커서를 다음 줄로 이동)\n",
        "\\a\t벨 소리(출력할 때 PC 스피커에서 '삑' 소리가 난다)\n",
        "\\b\t백 스페이스\n",
        "\\000\t널 문자\n",
        "이중에서 활용빈도가 높은 것은 \\n, \\t, \\\\, \\', \\\"이다. 나머지는 프로그램에서 잘 사용하지 않는다.\n",
        "```\n",
        "\n",
        "###문자열 연산하기\n",
        "1. 문자열 더해서 연결하기(Concatenation)\n",
        ">```\n",
        ">>> head = \"Python\"\n",
        ">>> tail = \" is fun!\"\n",
        ">>> head + tail\n",
        "'Python is fun!'\n",
        "```\n",
        "\n",
        "2. 문자열 곱하기\n",
        ">```\n",
        ">>> a = \"python\"\n",
        ">>> a * 2\n",
        "'pythonpython'\n",
        "```\n",
        "\n",
        "3. 문자열 길이 구하기\n",
        ">```\n",
        ">>> a = \"Life is too short\"\n",
        ">>> len(a)\n",
        "17\n",
        "```"
      ]
    },
    {
      "cell_type": "markdown",
      "metadata": {
        "id": "Jy4pL5Q59lX4",
        "colab_type": "text"
      },
      "source": [
        ""
      ]
    },
    {
      "cell_type": "markdown",
      "metadata": {
        "id": "S3ecDK_c9k3Y",
        "colab_type": "text"
      },
      "source": [
        "### 문자열 인덱싱과 슬라이싱"
      ]
    },
    {
      "cell_type": "code",
      "metadata": {
        "id": "_v2DEOzzSn_M",
        "colab_type": "code",
        "colab": {
          "base_uri": "https://localhost:8080/",
          "height": 35
        },
        "outputId": "0f55cd72-b04e-471b-8faa-948863687df2"
      },
      "source": [
        "# 문자열 인덱싱\n",
        "a = \"Life is too short, You need Python\"\n",
        "a[3]"
      ],
      "execution_count": null,
      "outputs": [
        {
          "output_type": "execute_result",
          "data": {
            "text/plain": [
              "'e'"
            ]
          },
          "metadata": {
            "tags": []
          },
          "execution_count": 1
        }
      ]
    },
    {
      "cell_type": "code",
      "metadata": {
        "id": "ngCqDWNFTgQI",
        "colab_type": "code",
        "colab": {
          "base_uri": "https://localhost:8080/",
          "height": 35
        },
        "outputId": "5e12375e-0903-42e5-d1f3-617bd76b6c25"
      },
      "source": [
        "# 문자열 슬라이싱\n",
        "'''\n",
        "a[시작 번호:끝 번호]\n",
        "a[시작 번호:끝 번호]에서 끝 번호 부분을 생략하면 시작 번호부터 그 문자열의 끝까지 뽑아낸다.\n",
        "a[시작 번호:끝 번호]에서 시작 번호를 생략하면 문자열의 처음부터 끝 번호까지 뽑아낸다.\n",
        "a[시작 번호:끝 번호]에서 시작 번호와 끝 번호를 생략하면 문자열의 처음부터 끝까지를 뽑아낸다.\n",
        "슬라이싱에서도 인덱싱과 마찬가지로 마이너스(-) 기호를 사용할 수 있다.\n",
        "'''\n",
        "a = \"Life is too short, You need Python\"\n",
        "a[0:4]"
      ],
      "execution_count": null,
      "outputs": [
        {
          "output_type": "execute_result",
          "data": {
            "text/plain": [
              "'Life'"
            ]
          },
          "metadata": {
            "tags": []
          },
          "execution_count": 2
        }
      ]
    },
    {
      "cell_type": "markdown",
      "metadata": {
        "id": "M3c7FnMw1iNm",
        "colab_type": "text"
      },
      "source": [
        "###문자열 포매팅"
      ]
    },
    {
      "cell_type": "markdown",
      "metadata": {
        "id": "Qs5XSbP5VEbi",
        "colab_type": "text"
      },
      "source": [
        "#### 1.문자열 포매팅 따라 하기\n",
        "- 숫자 바로 대입\n",
        "- 문자열 바로 대입\n",
        "- 숫자 값을 나타내는 변수로 대입\n",
        "- 2개 이상의 값 넣기\n",
        "\n",
        "\n"
      ]
    },
    {
      "cell_type": "code",
      "metadata": {
        "id": "Bo-weN-qmAyZ",
        "colab_type": "code",
        "colab": {
          "base_uri": "https://localhost:8080/",
          "height": 35
        },
        "outputId": "44200dc1-e26c-4417-9211-c86e0d05090d"
      },
      "source": [
        "# 숫자 대입\n",
        "\"I eat %d apples.\" % 3"
      ],
      "execution_count": null,
      "outputs": [
        {
          "output_type": "execute_result",
          "data": {
            "text/plain": [
              "'I eat 3 apples.'"
            ]
          },
          "metadata": {
            "tags": []
          },
          "execution_count": 4
        }
      ]
    },
    {
      "cell_type": "code",
      "metadata": {
        "id": "QTedTzRnmPqs",
        "colab_type": "code",
        "colab": {
          "base_uri": "https://localhost:8080/",
          "height": 35
        },
        "outputId": "2f7684ae-a83e-41c1-dcb2-2192bb7b124f"
      },
      "source": [
        "#문자열 대입\n",
        "\"I eat %s apples.\" % \"five\""
      ],
      "execution_count": null,
      "outputs": [
        {
          "output_type": "execute_result",
          "data": {
            "text/plain": [
              "'I eat five apples.'"
            ]
          },
          "metadata": {
            "tags": []
          },
          "execution_count": 5
        }
      ]
    },
    {
      "cell_type": "code",
      "metadata": {
        "id": "9HWGdYQ_mVqL",
        "colab_type": "code",
        "colab": {
          "base_uri": "https://localhost:8080/",
          "height": 35
        },
        "outputId": "dc572b00-d4bb-4842-8126-43ef0911d6aa"
      },
      "source": [
        "#숫자 값을 나타내는 변수로 대입\n",
        "number = 3\n",
        "\"I eat %d apples.\" % number"
      ],
      "execution_count": null,
      "outputs": [
        {
          "output_type": "execute_result",
          "data": {
            "text/plain": [
              "'I eat 3 apples.'"
            ]
          },
          "metadata": {
            "tags": []
          },
          "execution_count": 6
        }
      ]
    },
    {
      "cell_type": "code",
      "metadata": {
        "id": "YmzLbfKmmiWR",
        "colab_type": "code",
        "colab": {
          "base_uri": "https://localhost:8080/",
          "height": 35
        },
        "outputId": "bf415677-2e05-4c8e-be1c-b6f95ede835b"
      },
      "source": [
        "#2개 이상의 값 넣기\n",
        "number = 10\n",
        "day = \"three\"\n",
        "\"I ate %d apples. so I was sick for %s days.\" % (number, day)"
      ],
      "execution_count": null,
      "outputs": [
        {
          "output_type": "execute_result",
          "data": {
            "text/plain": [
              "'I ate 10 apples. so I was sick for three days.'"
            ]
          },
          "metadata": {
            "tags": []
          },
          "execution_count": 7
        }
      ]
    },
    {
      "cell_type": "markdown",
      "metadata": {
        "id": "BtXpeXJanAVj",
        "colab_type": "text"
      },
      "source": [
        "#### 2.문자열 포맷 코드\n",
        "\n",
        ">\n",
        ">코드 |\t설명\n",
        "---|---\n",
        "%s |\t문자열(String)\n",
        "%c |\t문자 1개(character)\n",
        "%d |\t정수(Integer)\n",
        "%f |\t부동소수(floating-point)\n",
        "%o |\t8진수\n",
        "%x |\t16진수\n",
        "%% |\tLiteral % (문자 % 자체)\n",
        "\n",
        "\n"
      ]
    },
    {
      "cell_type": "code",
      "metadata": {
        "id": "zcqI1_PUnNFs",
        "colab_type": "code",
        "colab": {
          "base_uri": "https://localhost:8080/",
          "height": 35
        },
        "outputId": "474f5066-05b7-4651-bbdc-bd732e8e559b"
      },
      "source": [
        "#3을 문자열 안에 삽입하려면 %d를 사용하고, 3.234를 삽입하려면 %f를 사용해야 한다. \n",
        "#하지만 %s를 사용하면 이런 것을 생각하지 않아도 된다. 왜냐하면 %s는 자동으로 % 뒤에 있는 값을 문자열로 바꾸기 때문이다.\n",
        "\n",
        "\"rate is %s\" % 3.234\n",
        "'rate is 3.234'"
      ],
      "execution_count": null,
      "outputs": [
        {
          "output_type": "execute_result",
          "data": {
            "text/plain": [
              "'rate is 3.234'"
            ]
          },
          "metadata": {
            "tags": []
          },
          "execution_count": 8
        }
      ]
    },
    {
      "cell_type": "code",
      "metadata": {
        "id": "Bs0SxQeioHrC",
        "colab_type": "code",
        "colab": {
          "base_uri": "https://localhost:8080/",
          "height": 35
        },
        "outputId": "21a255a5-298e-48f1-b34a-f5c6c020a7db"
      },
      "source": [
        "# 포매팅 연산자 %d와 %를 같이 쓸 때는 %%를 쓴다\n",
        "\"Error is %d%%.\" % 98"
      ],
      "execution_count": null,
      "outputs": [
        {
          "output_type": "execute_result",
          "data": {
            "text/plain": [
              "'Error is 98%.'"
            ]
          },
          "metadata": {
            "tags": []
          },
          "execution_count": 10
        }
      ]
    },
    {
      "cell_type": "markdown",
      "metadata": {
        "id": "YYugWyO5kpCt",
        "colab_type": "text"
      },
      "source": [
        "#### 3.코드와 숫자 함께 사용하기\n",
        "- 정렬과 공백\n",
        "- 소수점 표현하기"
      ]
    },
    {
      "cell_type": "code",
      "metadata": {
        "id": "mb8JHryIljxF",
        "colab_type": "code",
        "colab": {
          "base_uri": "https://localhost:8080/",
          "height": 35
        },
        "outputId": "3b8d4984-ade0-43f8-c894-60443d7aab55"
      },
      "source": [
        "# 우측 정렬\n",
        "\"%10s\" % \"hi\""
      ],
      "execution_count": null,
      "outputs": [
        {
          "output_type": "execute_result",
          "data": {
            "text/plain": [
              "'        hi'"
            ]
          },
          "metadata": {
            "tags": []
          },
          "execution_count": 1
        }
      ]
    },
    {
      "cell_type": "code",
      "metadata": {
        "id": "DjOCjsIQlm0g",
        "colab_type": "code",
        "colab": {
          "base_uri": "https://localhost:8080/",
          "height": 35
        },
        "outputId": "b7a73055-e52d-444c-dbe7-1c7648f534e4"
      },
      "source": [
        "#좌측 정렬\n",
        "\"%-10sjane.\" % 'hi'"
      ],
      "execution_count": null,
      "outputs": [
        {
          "output_type": "execute_result",
          "data": {
            "text/plain": [
              "'hi        jane.'"
            ]
          },
          "metadata": {
            "tags": []
          },
          "execution_count": 2
        }
      ]
    },
    {
      "cell_type": "code",
      "metadata": {
        "id": "b-S0VT_0l-RW",
        "colab_type": "code",
        "colab": {
          "base_uri": "https://localhost:8080/",
          "height": 35
        },
        "outputId": "5fc1a7b1-6109-4bec-944a-158de8284d7f"
      },
      "source": [
        "# 소수점\n",
        "\"%0.4f\" % 3.42134234"
      ],
      "execution_count": null,
      "outputs": [
        {
          "output_type": "execute_result",
          "data": {
            "text/plain": [
              "'3.4213'"
            ]
          },
          "metadata": {
            "tags": []
          },
          "execution_count": 3
        }
      ]
    },
    {
      "cell_type": "code",
      "metadata": {
        "id": "Gm0P1nfPmEQL",
        "colab_type": "code",
        "colab": {
          "base_uri": "https://localhost:8080/",
          "height": 35
        },
        "outputId": "adf4fa6b-8f33-428c-ab62-4527638f096d"
      },
      "source": [
        "# 소수점 우측 정렬\n",
        "\"%10.4f\" % 3.42134234"
      ],
      "execution_count": null,
      "outputs": [
        {
          "output_type": "execute_result",
          "data": {
            "text/plain": [
              "'    3.4213'"
            ]
          },
          "metadata": {
            "tags": []
          },
          "execution_count": 5
        }
      ]
    },
    {
      "cell_type": "markdown",
      "metadata": {
        "id": "-12CbpUBmqC4",
        "colab_type": "text"
      },
      "source": [
        "#### 4.format 함수를 사용한 포매팅"
      ]
    },
    {
      "cell_type": "code",
      "metadata": {
        "id": "g_KnIUHym6iY",
        "colab_type": "code",
        "colab": {
          "base_uri": "https://localhost:8080/",
          "height": 35
        },
        "outputId": "5836b8ac-0b49-4645-d0c9-f985ba364372"
      },
      "source": [
        "# 숫자 바로 대입\n",
        "\"I eat {0} apples\".format(3)"
      ],
      "execution_count": null,
      "outputs": [
        {
          "output_type": "execute_result",
          "data": {
            "text/plain": [
              "'I eat 3 apples'"
            ]
          },
          "metadata": {
            "tags": []
          },
          "execution_count": 8
        }
      ]
    },
    {
      "cell_type": "code",
      "metadata": {
        "id": "CVJOz6DBm8mf",
        "colab_type": "code",
        "colab": {
          "base_uri": "https://localhost:8080/",
          "height": 35
        },
        "outputId": "09feae79-3175-4bad-8696-1ab2742b4dc7"
      },
      "source": [
        "# 문자열 바로 대입\n",
        "\"I eat {0} apples\".format(\"five\")"
      ],
      "execution_count": null,
      "outputs": [
        {
          "output_type": "execute_result",
          "data": {
            "text/plain": [
              "'I eat five apples'"
            ]
          },
          "metadata": {
            "tags": []
          },
          "execution_count": 7
        }
      ]
    },
    {
      "cell_type": "code",
      "metadata": {
        "id": "i5Yfhq36nFkn",
        "colab_type": "code",
        "colab": {
          "base_uri": "https://localhost:8080/",
          "height": 35
        },
        "outputId": "4e1c57f0-485d-489a-9e05-3b5beb87f997"
      },
      "source": [
        "# 숫자를 변수로 대입\n",
        "number = 3\n",
        "\"I eat {0} apples\".format(number)"
      ],
      "execution_count": null,
      "outputs": [
        {
          "output_type": "execute_result",
          "data": {
            "text/plain": [
              "'I eat 3 apples'"
            ]
          },
          "metadata": {
            "tags": []
          },
          "execution_count": 6
        }
      ]
    },
    {
      "cell_type": "code",
      "metadata": {
        "id": "dD3GGeBtnUCP",
        "colab_type": "code",
        "colab": {
          "base_uri": "https://localhost:8080/",
          "height": 35
        },
        "outputId": "2753055a-d6f0-4e5b-c7a8-9c9f146056cf"
      },
      "source": [
        "# 2개 이상의 값으로 넣기\n",
        "number = 10\n",
        "day = \"three\"\n",
        "\"I ate {0} apples. so I was sick for {1} days.\".format(number, day)"
      ],
      "execution_count": null,
      "outputs": [
        {
          "output_type": "execute_result",
          "data": {
            "text/plain": [
              "'I ate 10 apples. so I was sick for three days.'"
            ]
          },
          "metadata": {
            "tags": []
          },
          "execution_count": 9
        }
      ]
    },
    {
      "cell_type": "code",
      "metadata": {
        "id": "al_M_du2n54S",
        "colab_type": "code",
        "colab": {
          "base_uri": "https://localhost:8080/",
          "height": 35
        },
        "outputId": "4ab099fd-cdb1-454c-a63e-d38ff0ed202e"
      },
      "source": [
        "# 이름으로 넣기\n",
        "\"I ate {number} apples. so I was sick for {day} days.\".format(number=20, day=4)\n"
      ],
      "execution_count": null,
      "outputs": [
        {
          "output_type": "execute_result",
          "data": {
            "text/plain": [
              "'I ate 20 apples. so I was sick for 4 days.'"
            ]
          },
          "metadata": {
            "tags": []
          },
          "execution_count": 10
        }
      ]
    },
    {
      "cell_type": "code",
      "metadata": {
        "id": "A1F2-OphoJyE",
        "colab_type": "code",
        "colab": {
          "base_uri": "https://localhost:8080/",
          "height": 35
        },
        "outputId": "b4f59ba3-ba9f-40ae-d498-812f189b35c2"
      },
      "source": [
        "# 인덱스와 이름 혼용해서 넣기\n",
        "\"I ate {0} apples. so I was sick for {day} day.\".format(10, day=3)\n"
      ],
      "execution_count": null,
      "outputs": [
        {
          "output_type": "execute_result",
          "data": {
            "text/plain": [
              "'I ate 10 apples. so I was sick for 3 day.'"
            ]
          },
          "metadata": {
            "tags": []
          },
          "execution_count": 11
        }
      ]
    },
    {
      "cell_type": "code",
      "metadata": {
        "id": "PR6QhuxIob3J",
        "colab_type": "code",
        "colab": {
          "base_uri": "https://localhost:8080/",
          "height": 35
        },
        "outputId": "a191819d-5655-40ee-9abb-655d1bcc0797"
      },
      "source": [
        "# 왼쪽 정렬\n",
        "\"{0:<10}\".format(\"hi\")\n"
      ],
      "execution_count": null,
      "outputs": [
        {
          "output_type": "execute_result",
          "data": {
            "text/plain": [
              "'hi        '"
            ]
          },
          "metadata": {
            "tags": []
          },
          "execution_count": 12
        }
      ]
    },
    {
      "cell_type": "code",
      "metadata": {
        "id": "QXrYVaWuotit",
        "colab_type": "code",
        "colab": {
          "base_uri": "https://localhost:8080/",
          "height": 35
        },
        "outputId": "9ace314f-d6f1-49e4-a3d7-c71aa8a524df"
      },
      "source": [
        "# 오른쪽 정렬\n",
        "\"{0:>10}\".format(\"hi\")"
      ],
      "execution_count": null,
      "outputs": [
        {
          "output_type": "execute_result",
          "data": {
            "text/plain": [
              "'        hi'"
            ]
          },
          "metadata": {
            "tags": []
          },
          "execution_count": 13
        }
      ]
    },
    {
      "cell_type": "code",
      "metadata": {
        "id": "DeCG0AHfo4Ev",
        "colab_type": "code",
        "colab": {
          "base_uri": "https://localhost:8080/",
          "height": 35
        },
        "outputId": "59937e47-4713-4f0f-b350-1527aacbde3c"
      },
      "source": [
        "# 가운데 정렬\n",
        "\"{0:^10}\".format(\"hi\")\n"
      ],
      "execution_count": null,
      "outputs": [
        {
          "output_type": "execute_result",
          "data": {
            "text/plain": [
              "'    hi    '"
            ]
          },
          "metadata": {
            "tags": []
          },
          "execution_count": 14
        }
      ]
    },
    {
      "cell_type": "code",
      "metadata": {
        "id": "pLSG14IgpCv9",
        "colab_type": "code",
        "colab": {
          "base_uri": "https://localhost:8080/",
          "height": 35
        },
        "outputId": "c34d56c9-f6c1-47d8-8b8b-b418b92efb2c"
      },
      "source": [
        "# 공백 채우기\n",
        "\"{0:=^10}\".format(\"하이\")"
      ],
      "execution_count": null,
      "outputs": [
        {
          "output_type": "execute_result",
          "data": {
            "text/plain": [
              "'====하이===='"
            ]
          },
          "metadata": {
            "tags": []
          },
          "execution_count": 15
        }
      ]
    },
    {
      "cell_type": "code",
      "metadata": {
        "id": "43hocV_opWvb",
        "colab_type": "code",
        "colab": {
          "base_uri": "https://localhost:8080/",
          "height": 35
        },
        "outputId": "51443079-6e67-4351-c026-046ead4cda1f"
      },
      "source": [
        "# 문자로 채우기\n",
        "\"{0:$<10}\".format(\"하하하하하\")"
      ],
      "execution_count": null,
      "outputs": [
        {
          "output_type": "execute_result",
          "data": {
            "text/plain": [
              "'하하하하하$$$$$'"
            ]
          },
          "metadata": {
            "tags": []
          },
          "execution_count": 19
        }
      ]
    },
    {
      "cell_type": "code",
      "metadata": {
        "id": "zb5HOr44pw5z",
        "colab_type": "code",
        "colab": {
          "base_uri": "https://localhost:8080/",
          "height": 35
        },
        "outputId": "2ce3ef26-d6d4-4b7e-bdd3-3153614ed43b"
      },
      "source": [
        "# 소수점 표현하기\n",
        "y=3.42134234\n",
        "\"{0:0.4f}\".format(y)"
      ],
      "execution_count": null,
      "outputs": [
        {
          "output_type": "execute_result",
          "data": {
            "text/plain": [
              "'3.4213'"
            ]
          },
          "metadata": {
            "tags": []
          },
          "execution_count": 20
        }
      ]
    },
    {
      "cell_type": "code",
      "metadata": {
        "id": "ILBEMkCTsmu4",
        "colab_type": "code",
        "colab": {
          "base_uri": "https://localhost:8080/",
          "height": 35
        },
        "outputId": "bbab3537-6d36-4761-a8f0-d93288054e20"
      },
      "source": [
        "# 소수점 표현하기2\n",
        "\"{0:10.4f}\".format(y)"
      ],
      "execution_count": null,
      "outputs": [
        {
          "output_type": "execute_result",
          "data": {
            "text/plain": [
              "'    3.4213'"
            ]
          },
          "metadata": {
            "tags": []
          },
          "execution_count": 22
        }
      ]
    },
    {
      "cell_type": "code",
      "metadata": {
        "id": "VrMfEUCds6vZ",
        "colab_type": "code",
        "colab": {
          "base_uri": "https://localhost:8080/",
          "height": 35
        },
        "outputId": "502c95cd-963d-4c66-d909-15c6966f631f"
      },
      "source": [
        "# { 또는 } 문자 표현하기\n",
        "\"{{ and }}\".format()"
      ],
      "execution_count": null,
      "outputs": [
        {
          "output_type": "execute_result",
          "data": {
            "text/plain": [
              "'{ and }'"
            ]
          },
          "metadata": {
            "tags": []
          },
          "execution_count": 23
        }
      ]
    },
    {
      "cell_type": "markdown",
      "metadata": {
        "id": "ngnihk-ZtSbX",
        "colab_type": "text"
      },
      "source": [
        "#### 5.f문자열 포매팅\n",
        "- 파이썬 3.6 이상에서 사용 가능"
      ]
    },
    {
      "cell_type": "code",
      "metadata": {
        "id": "Omr4A_gItuh4",
        "colab_type": "code",
        "colab": {
          "base_uri": "https://localhost:8080/",
          "height": 35
        },
        "outputId": "b39237fa-213a-4ff1-f2bd-bcee3b24e7b1"
      },
      "source": [
        "# 문자열 앞에 f접두사를 붙임\n",
        "name='동호김'\n",
        "age=30\n",
        "f'나의 이름은 {name}이며, 나이는 {age}입니다'"
      ],
      "execution_count": null,
      "outputs": [
        {
          "output_type": "execute_result",
          "data": {
            "text/plain": [
              "'나의 이름은 동호김이며, 나이는 30입니다'"
            ]
          },
          "metadata": {
            "tags": []
          },
          "execution_count": 24
        }
      ]
    },
    {
      "cell_type": "code",
      "metadata": {
        "id": "Ke8tSiRruCkj",
        "colab_type": "code",
        "colab": {
          "base_uri": "https://localhost:8080/",
          "height": 35
        },
        "outputId": "89543a2b-16e4-41ff-fd6b-1bcc570a5828"
      },
      "source": [
        "# 문자열에 표현식 지원\n",
        "age=30\n",
        "f'나는 내년에 {age+1}살이 된다.'"
      ],
      "execution_count": null,
      "outputs": [
        {
          "output_type": "execute_result",
          "data": {
            "text/plain": [
              "'나는 내년에 31살이 된다.'"
            ]
          },
          "metadata": {
            "tags": []
          },
          "execution_count": 25
        }
      ]
    },
    {
      "cell_type": "code",
      "metadata": {
        "id": "oNnwoOQvuS8E",
        "colab_type": "code",
        "colab": {
          "base_uri": "https://localhost:8080/",
          "height": 35
        },
        "outputId": "557522d3-e28f-405a-cf89-33f7fcfd650b"
      },
      "source": [
        "#딕셔너리\n",
        "d={'name':'홍길동','age':30}\n",
        "f'나의 이름은 {d[\"name\"]}입니다. 나이는 {d[\"age\"]}입니다'"
      ],
      "execution_count": null,
      "outputs": [
        {
          "output_type": "execute_result",
          "data": {
            "text/plain": [
              "'나의 이름은 홍길동입니다. 나이는 30입니다'"
            ]
          },
          "metadata": {
            "tags": []
          },
          "execution_count": 26
        }
      ]
    },
    {
      "cell_type": "code",
      "metadata": {
        "id": "qgLz4l2Duvdi",
        "colab_type": "code",
        "colab": {
          "base_uri": "https://localhost:8080/",
          "height": 35
        },
        "outputId": "07348054-9a51-4123-cedd-b1800946105e"
      },
      "source": [
        "# 좌측 정렬, 우측 정렬, 가운데 정렬\n",
        "f'{\"하이\":<10}'\n",
        "f'{\"하이루\":>10}'\n",
        "f'{\"하여\":^10}'"
      ],
      "execution_count": null,
      "outputs": [
        {
          "output_type": "execute_result",
          "data": {
            "text/plain": [
              "'    하여    '"
            ]
          },
          "metadata": {
            "tags": []
          },
          "execution_count": 30
        }
      ]
    },
    {
      "cell_type": "code",
      "metadata": {
        "id": "JyiFTLJ9vnwZ",
        "colab_type": "code",
        "colab": {
          "base_uri": "https://localhost:8080/",
          "height": 35
        },
        "outputId": "6d7126a2-1a96-40e1-aea6-1419046cedb6"
      },
      "source": [
        "# 공백 채우기\n",
        "f'{\"hi\":=^10}' # 가운데 정렬하고 '=' 문자로 공백 채우기\n",
        "f'{\"hi\":!<10}' # 왼쪽 정렬하고 '!' 문자로 공백 채우기"
      ],
      "execution_count": null,
      "outputs": [
        {
          "output_type": "execute_result",
          "data": {
            "text/plain": [
              "'hi!!!!!!!!'"
            ]
          },
          "metadata": {
            "tags": []
          },
          "execution_count": 35
        }
      ]
    },
    {
      "cell_type": "code",
      "metadata": {
        "id": "I_e6j3oLwW1x",
        "colab_type": "code",
        "colab": {
          "base_uri": "https://localhost:8080/",
          "height": 35
        },
        "outputId": "1e525501-aeac-414f-aa96-cacf1dd6915c"
      },
      "source": [
        "# 소수점 표현\n",
        "y=3.42134234\n",
        "f'{y:0.4f}' # 소수점 4자리\n",
        "f'{y:10.4f}' # 소수점 4자리, 총 자리수는 10"
      ],
      "execution_count": null,
      "outputs": [
        {
          "output_type": "execute_result",
          "data": {
            "text/plain": [
              "'    3.4213'"
            ]
          },
          "metadata": {
            "tags": []
          },
          "execution_count": 38
        }
      ]
    },
    {
      "cell_type": "code",
      "metadata": {
        "id": "mw9fPDQY0rw9",
        "colab_type": "code",
        "colab": {
          "base_uri": "https://localhost:8080/",
          "height": 35
        },
        "outputId": "0eebb4ee-fab9-44aa-f323-1aa6458fba68"
      },
      "source": [
        "# 문자열에서 {} 표시\n",
        "f'{{ and }}'"
      ],
      "execution_count": null,
      "outputs": [
        {
          "output_type": "execute_result",
          "data": {
            "text/plain": [
              "'{ and }'"
            ]
          },
          "metadata": {
            "tags": []
          },
          "execution_count": 39
        }
      ]
    },
    {
      "cell_type": "markdown",
      "metadata": {
        "id": "keaii6ig16AT",
        "colab_type": "text"
      },
      "source": [
        "### 문자열 관련 함수들\n"
      ]
    },
    {
      "cell_type": "code",
      "metadata": {
        "id": "IIGbS8ej2dW-",
        "colab_type": "code",
        "colab": {
          "base_uri": "https://localhost:8080/",
          "height": 35
        },
        "outputId": "99d7334e-b44d-4962-cd2e-7d7581cc06f0"
      },
      "source": [
        "# 문자 개수 세기(count)\n",
        "a=\"호랑나비 호호호\"\n",
        "a.count('호')"
      ],
      "execution_count": null,
      "outputs": [
        {
          "output_type": "execute_result",
          "data": {
            "text/plain": [
              "4"
            ]
          },
          "metadata": {
            "tags": []
          },
          "execution_count": 42
        }
      ]
    },
    {
      "cell_type": "code",
      "metadata": {
        "id": "kHjfiFlP2ulc",
        "colab_type": "code",
        "colab": {
          "base_uri": "https://localhost:8080/",
          "height": 35
        },
        "outputId": "dd02edec-13d9-41e0-a2b3-eab0a48e1186"
      },
      "source": [
        "# 위치 알려주기 1(find)\n",
        "a=\"Python is the best choice\"\n",
        "a.find('t') #숫자를 0부터 샌다. 찾는 문자나 문자열이 없으면 -1을 반환"
      ],
      "execution_count": null,
      "outputs": [
        {
          "output_type": "execute_result",
          "data": {
            "text/plain": [
              "2"
            ]
          },
          "metadata": {
            "tags": []
          },
          "execution_count": 47
        }
      ]
    },
    {
      "cell_type": "code",
      "metadata": {
        "id": "HN0vHq943alV",
        "colab_type": "code",
        "colab": {
          "base_uri": "https://localhost:8080/",
          "height": 35
        },
        "outputId": "af273ca1-05dd-4f26-b575-5d081b7ec6b0"
      },
      "source": [
        "# 위치 알려주기 2(index)\n",
        "a=\"Life is too short\"\n",
        "a.index('t') # 찾는 문자/문자열이 없으면 오류 발생"
      ],
      "execution_count": null,
      "outputs": [
        {
          "output_type": "execute_result",
          "data": {
            "text/plain": [
              "8"
            ]
          },
          "metadata": {
            "tags": []
          },
          "execution_count": 48
        }
      ]
    },
    {
      "cell_type": "code",
      "metadata": {
        "id": "PwttAjoL35z-",
        "colab_type": "code",
        "colab": {
          "base_uri": "https://localhost:8080/",
          "height": 35
        },
        "outputId": "8464bbe7-6376-4186-e0af-af2a135c5ef8"
      },
      "source": [
        "# 문자열 삽입(join)\n",
        "\"---\".join('abcd1234')"
      ],
      "execution_count": null,
      "outputs": [
        {
          "output_type": "execute_result",
          "data": {
            "text/plain": [
              "'a---b---c---d---1---2---3---4'"
            ]
          },
          "metadata": {
            "tags": []
          },
          "execution_count": 54
        }
      ]
    },
    {
      "cell_type": "code",
      "metadata": {
        "id": "KGKikFW-4fsA",
        "colab_type": "code",
        "colab": {
          "base_uri": "https://localhost:8080/",
          "height": 35
        },
        "outputId": "48073839-df58-45ac-f2b9-1c9284cc44a6"
      },
      "source": [
        "# 소문자를 대문자로(upper)\n",
        "a=\"hi\"\n",
        "a.upper()\n"
      ],
      "execution_count": null,
      "outputs": [
        {
          "output_type": "execute_result",
          "data": {
            "text/plain": [
              "'HI'"
            ]
          },
          "metadata": {
            "tags": []
          },
          "execution_count": 55
        }
      ]
    },
    {
      "cell_type": "code",
      "metadata": {
        "id": "CxjgefeK4oD9",
        "colab_type": "code",
        "colab": {
          "base_uri": "https://localhost:8080/",
          "height": 35
        },
        "outputId": "13feb54d-02c9-4e91-8355-e7bbfa011df3"
      },
      "source": [
        "# 대문자를 소문자로(lower)\n",
        "a=\"HI HOHOHO\"\n",
        "a.lower()"
      ],
      "execution_count": null,
      "outputs": [
        {
          "output_type": "execute_result",
          "data": {
            "text/plain": [
              "'hi hohoho'"
            ]
          },
          "metadata": {
            "tags": []
          },
          "execution_count": 56
        }
      ]
    },
    {
      "cell_type": "code",
      "metadata": {
        "id": "aXOKWO2O4zup",
        "colab_type": "code",
        "colab": {
          "base_uri": "https://localhost:8080/",
          "height": 35
        },
        "outputId": "2d76c2da-d544-49f9-8fac-8af644d4545b"
      },
      "source": [
        "#왼쪽 공백 지우기(lstrip), 오른쪽 공백 지우기(rstrip), 양쪽 공백 지우기(strip)\n",
        "a=\"  -  hi  -  \"\n",
        "a.strip()"
      ],
      "execution_count": null,
      "outputs": [
        {
          "output_type": "execute_result",
          "data": {
            "text/plain": [
              "'-  hi  -'"
            ]
          },
          "metadata": {
            "tags": []
          },
          "execution_count": 61
        }
      ]
    },
    {
      "cell_type": "code",
      "metadata": {
        "id": "NKLbr6Bt5X5Z",
        "colab_type": "code",
        "colab": {
          "base_uri": "https://localhost:8080/",
          "height": 35
        },
        "outputId": "6db92d12-ab19-4476-c422-b007d703364e"
      },
      "source": [
        "# 문자열 바꾸기(replace)\n",
        "a=\"Life is too short\"\n",
        "a.replace(\"Life\", \"Your leg\")"
      ],
      "execution_count": null,
      "outputs": [
        {
          "output_type": "execute_result",
          "data": {
            "text/plain": [
              "'Your leg is too short'"
            ]
          },
          "metadata": {
            "tags": []
          },
          "execution_count": 63
        }
      ]
    },
    {
      "cell_type": "code",
      "metadata": {
        "id": "Q-US24m85sad",
        "colab_type": "code",
        "colab": {
          "base_uri": "https://localhost:8080/",
          "height": 35
        },
        "outputId": "d523bad8-d542-4a55-91af-963e8750b446"
      },
      "source": [
        "# 문자열 나누기(split)\n",
        "a=\"Life is too short\"\n",
        "a.split()"
      ],
      "execution_count": null,
      "outputs": [
        {
          "output_type": "execute_result",
          "data": {
            "text/plain": [
              "['Life', 'is', 'too', 'short']"
            ]
          },
          "metadata": {
            "tags": []
          },
          "execution_count": 64
        }
      ]
    },
    {
      "cell_type": "markdown",
      "metadata": {
        "id": "wknJ6btXbAqn",
        "colab_type": "text"
      },
      "source": [
        "##리스트 자료형\n",
        "리스트 자료형이란? 멀까?\n",
        "두번째 테스트. 로그아웃 후 저장"
      ]
    },
    {
      "cell_type": "markdown",
      "metadata": {
        "id": "GjwP0BRtbF1l",
        "colab_type": "text"
      },
      "source": [
        ""
      ]
    },
    {
      "cell_type": "markdown",
      "metadata": {
        "id": "BQVgdaIRbM27",
        "colab_type": "text"
      },
      "source": [
        "##튜플 자료형"
      ]
    },
    {
      "cell_type": "markdown",
      "metadata": {
        "id": "13dRai3ObQQH",
        "colab_type": "text"
      },
      "source": [
        "## 딕셔너리 자료형"
      ]
    },
    {
      "cell_type": "markdown",
      "metadata": {
        "id": "zF4GArU7bShW",
        "colab_type": "text"
      },
      "source": [
        "##집합 자료형"
      ]
    },
    {
      "cell_type": "markdown",
      "metadata": {
        "id": "BRhatXE3bU_S",
        "colab_type": "text"
      },
      "source": [
        "##불 자료형"
      ]
    },
    {
      "cell_type": "markdown",
      "metadata": {
        "id": "e5qoG4cEV-uW",
        "colab_type": "text"
      },
      "source": [
        "# 제어문"
      ]
    },
    {
      "cell_type": "markdown",
      "metadata": {
        "id": "PttTFXjNbEBm",
        "colab_type": "text"
      },
      "source": [
        "## if문"
      ]
    },
    {
      "cell_type": "markdown",
      "metadata": {
        "id": "gZF-m9GfP1To",
        "colab_type": "text"
      },
      "source": [
        "##while문"
      ]
    },
    {
      "cell_type": "markdown",
      "metadata": {
        "id": "ft8z2yxbPzhv",
        "colab_type": "text"
      },
      "source": [
        "## for문"
      ]
    },
    {
      "cell_type": "markdown",
      "metadata": {
        "id": "ddpohmnGQsqY",
        "colab_type": "text"
      },
      "source": [
        "#입력과 출력"
      ]
    },
    {
      "cell_type": "markdown",
      "metadata": {
        "id": "gF8wZKeIQyDq",
        "colab_type": "text"
      },
      "source": [
        "#날개달기"
      ]
    },
    {
      "cell_type": "markdown",
      "metadata": {
        "id": "TLD-stZgPgyz",
        "colab_type": "text"
      },
      "source": [
        "\n",
        "# <참조문헌>\n",
        "- 파이썬 자습서: https://docs.python.org/ko/3/tutorial/\n",
        "- 빅데이터센터 교육실습자료: https://kbig.kr/portal/kbig/datacube/education/education.page\n",
        "- 위키독스, 점프 투 파이썬: https://wikidocs.net/book/1\n",
        "- 위키독스, 파이썬 머신러닝 딥러닝: https://wikidocs.net/book/4296\n",
        "\n",
        "\n",
        "\n",
        "\n"
      ]
    }
  ]
}